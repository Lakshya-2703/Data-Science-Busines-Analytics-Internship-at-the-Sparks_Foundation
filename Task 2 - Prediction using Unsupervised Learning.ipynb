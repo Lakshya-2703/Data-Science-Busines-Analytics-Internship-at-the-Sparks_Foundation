{
 "cells": [
  {
   "cell_type": "markdown",
   "id": "cdfd233e",
   "metadata": {},
   "source": [
    "# The Sparks Foundation - Data Science & Business Analytics Internship"
   ]
  },
  {
   "cell_type": "markdown",
   "id": "dd9f5055",
   "metadata": {},
   "source": [
    "## Task 2 - Prediction using unsupervised ML\n",
    "In this task we have to predict the optimum number of clusters and represent it visually, from the given 'Iris' Dataset"
   ]
  },
  {
   "cell_type": "markdown",
   "id": "cdf90acb",
   "metadata": {},
   "source": [
    "#### Author : Lakshya Singh Bisht"
   ]
  },
  {
   "cell_type": "code",
   "execution_count": 1,
   "id": "d4891ca6",
   "metadata": {},
   "outputs": [],
   "source": [
    "# Importing the required libraries \n",
    "import numpy as np\n",
    "import pandas as pd\n",
    "import matplotlib.pyplot as plt\n",
    "import seaborn as sns"
   ]
  },
  {
   "cell_type": "code",
   "execution_count": 2,
   "id": "7819a2d2",
   "metadata": {},
   "outputs": [],
   "source": [
    "df=pd.read_csv(\"Iris.csv\")"
   ]
  },
  {
   "cell_type": "code",
   "execution_count": 3,
   "id": "782c021f",
   "metadata": {},
   "outputs": [
    {
     "data": {
      "text/html": [
       "<div>\n",
       "<style scoped>\n",
       "    .dataframe tbody tr th:only-of-type {\n",
       "        vertical-align: middle;\n",
       "    }\n",
       "\n",
       "    .dataframe tbody tr th {\n",
       "        vertical-align: top;\n",
       "    }\n",
       "\n",
       "    .dataframe thead th {\n",
       "        text-align: right;\n",
       "    }\n",
       "</style>\n",
       "<table border=\"1\" class=\"dataframe\">\n",
       "  <thead>\n",
       "    <tr style=\"text-align: right;\">\n",
       "      <th></th>\n",
       "      <th>Id</th>\n",
       "      <th>SepalLengthCm</th>\n",
       "      <th>SepalWidthCm</th>\n",
       "      <th>PetalLengthCm</th>\n",
       "      <th>PetalWidthCm</th>\n",
       "      <th>Species</th>\n",
       "    </tr>\n",
       "  </thead>\n",
       "  <tbody>\n",
       "    <tr>\n",
       "      <th>0</th>\n",
       "      <td>1</td>\n",
       "      <td>5.1</td>\n",
       "      <td>3.5</td>\n",
       "      <td>1.4</td>\n",
       "      <td>0.2</td>\n",
       "      <td>Iris-setosa</td>\n",
       "    </tr>\n",
       "    <tr>\n",
       "      <th>1</th>\n",
       "      <td>2</td>\n",
       "      <td>4.9</td>\n",
       "      <td>3.0</td>\n",
       "      <td>1.4</td>\n",
       "      <td>0.2</td>\n",
       "      <td>Iris-setosa</td>\n",
       "    </tr>\n",
       "    <tr>\n",
       "      <th>2</th>\n",
       "      <td>3</td>\n",
       "      <td>4.7</td>\n",
       "      <td>3.2</td>\n",
       "      <td>1.3</td>\n",
       "      <td>0.2</td>\n",
       "      <td>Iris-setosa</td>\n",
       "    </tr>\n",
       "    <tr>\n",
       "      <th>3</th>\n",
       "      <td>4</td>\n",
       "      <td>4.6</td>\n",
       "      <td>3.1</td>\n",
       "      <td>1.5</td>\n",
       "      <td>0.2</td>\n",
       "      <td>Iris-setosa</td>\n",
       "    </tr>\n",
       "    <tr>\n",
       "      <th>4</th>\n",
       "      <td>5</td>\n",
       "      <td>5.0</td>\n",
       "      <td>3.6</td>\n",
       "      <td>1.4</td>\n",
       "      <td>0.2</td>\n",
       "      <td>Iris-setosa</td>\n",
       "    </tr>\n",
       "  </tbody>\n",
       "</table>\n",
       "</div>"
      ],
      "text/plain": [
       "   Id  SepalLengthCm  SepalWidthCm  PetalLengthCm  PetalWidthCm      Species\n",
       "0   1            5.1           3.5            1.4           0.2  Iris-setosa\n",
       "1   2            4.9           3.0            1.4           0.2  Iris-setosa\n",
       "2   3            4.7           3.2            1.3           0.2  Iris-setosa\n",
       "3   4            4.6           3.1            1.5           0.2  Iris-setosa\n",
       "4   5            5.0           3.6            1.4           0.2  Iris-setosa"
      ]
     },
     "execution_count": 3,
     "metadata": {},
     "output_type": "execute_result"
    }
   ],
   "source": [
    "df.head()"
   ]
  },
  {
   "cell_type": "code",
   "execution_count": 4,
   "id": "65600a19",
   "metadata": {},
   "outputs": [
    {
     "data": {
      "text/html": [
       "<div>\n",
       "<style scoped>\n",
       "    .dataframe tbody tr th:only-of-type {\n",
       "        vertical-align: middle;\n",
       "    }\n",
       "\n",
       "    .dataframe tbody tr th {\n",
       "        vertical-align: top;\n",
       "    }\n",
       "\n",
       "    .dataframe thead th {\n",
       "        text-align: right;\n",
       "    }\n",
       "</style>\n",
       "<table border=\"1\" class=\"dataframe\">\n",
       "  <thead>\n",
       "    <tr style=\"text-align: right;\">\n",
       "      <th></th>\n",
       "      <th>Id</th>\n",
       "      <th>SepalLengthCm</th>\n",
       "      <th>SepalWidthCm</th>\n",
       "      <th>PetalLengthCm</th>\n",
       "      <th>PetalWidthCm</th>\n",
       "      <th>Species</th>\n",
       "    </tr>\n",
       "  </thead>\n",
       "  <tbody>\n",
       "    <tr>\n",
       "      <th>145</th>\n",
       "      <td>146</td>\n",
       "      <td>6.7</td>\n",
       "      <td>3.0</td>\n",
       "      <td>5.2</td>\n",
       "      <td>2.3</td>\n",
       "      <td>Iris-virginica</td>\n",
       "    </tr>\n",
       "    <tr>\n",
       "      <th>146</th>\n",
       "      <td>147</td>\n",
       "      <td>6.3</td>\n",
       "      <td>2.5</td>\n",
       "      <td>5.0</td>\n",
       "      <td>1.9</td>\n",
       "      <td>Iris-virginica</td>\n",
       "    </tr>\n",
       "    <tr>\n",
       "      <th>147</th>\n",
       "      <td>148</td>\n",
       "      <td>6.5</td>\n",
       "      <td>3.0</td>\n",
       "      <td>5.2</td>\n",
       "      <td>2.0</td>\n",
       "      <td>Iris-virginica</td>\n",
       "    </tr>\n",
       "    <tr>\n",
       "      <th>148</th>\n",
       "      <td>149</td>\n",
       "      <td>6.2</td>\n",
       "      <td>3.4</td>\n",
       "      <td>5.4</td>\n",
       "      <td>2.3</td>\n",
       "      <td>Iris-virginica</td>\n",
       "    </tr>\n",
       "    <tr>\n",
       "      <th>149</th>\n",
       "      <td>150</td>\n",
       "      <td>5.9</td>\n",
       "      <td>3.0</td>\n",
       "      <td>5.1</td>\n",
       "      <td>1.8</td>\n",
       "      <td>Iris-virginica</td>\n",
       "    </tr>\n",
       "  </tbody>\n",
       "</table>\n",
       "</div>"
      ],
      "text/plain": [
       "      Id  SepalLengthCm  SepalWidthCm  PetalLengthCm  PetalWidthCm  \\\n",
       "145  146            6.7           3.0            5.2           2.3   \n",
       "146  147            6.3           2.5            5.0           1.9   \n",
       "147  148            6.5           3.0            5.2           2.0   \n",
       "148  149            6.2           3.4            5.4           2.3   \n",
       "149  150            5.9           3.0            5.1           1.8   \n",
       "\n",
       "            Species  \n",
       "145  Iris-virginica  \n",
       "146  Iris-virginica  \n",
       "147  Iris-virginica  \n",
       "148  Iris-virginica  \n",
       "149  Iris-virginica  "
      ]
     },
     "execution_count": 4,
     "metadata": {},
     "output_type": "execute_result"
    }
   ],
   "source": [
    "df.tail()"
   ]
  },
  {
   "cell_type": "code",
   "execution_count": 5,
   "id": "8e60602d",
   "metadata": {},
   "outputs": [
    {
     "name": "stdout",
     "output_type": "stream",
     "text": [
      "<class 'pandas.core.frame.DataFrame'>\n",
      "RangeIndex: 150 entries, 0 to 149\n",
      "Data columns (total 6 columns):\n",
      " #   Column         Non-Null Count  Dtype  \n",
      "---  ------         --------------  -----  \n",
      " 0   Id             150 non-null    int64  \n",
      " 1   SepalLengthCm  150 non-null    float64\n",
      " 2   SepalWidthCm   150 non-null    float64\n",
      " 3   PetalLengthCm  150 non-null    float64\n",
      " 4   PetalWidthCm   150 non-null    float64\n",
      " 5   Species        150 non-null    object \n",
      "dtypes: float64(4), int64(1), object(1)\n",
      "memory usage: 7.2+ KB\n"
     ]
    }
   ],
   "source": [
    "df.info()"
   ]
  },
  {
   "cell_type": "code",
   "execution_count": 6,
   "id": "0ad47cad",
   "metadata": {},
   "outputs": [
    {
     "data": {
      "text/plain": [
       "Index(['SepalLengthCm', 'SepalWidthCm', 'PetalLengthCm', 'PetalWidthCm',\n",
       "       'Species'],\n",
       "      dtype='object')"
      ]
     },
     "execution_count": 6,
     "metadata": {},
     "output_type": "execute_result"
    }
   ],
   "source": [
    "df.drop('Id' , axis=1 , inplace = True)\n",
    "df.columns"
   ]
  },
  {
   "cell_type": "code",
   "execution_count": 7,
   "id": "01f33e47",
   "metadata": {},
   "outputs": [
    {
     "name": "stderr",
     "output_type": "stream",
     "text": [
      "C:\\Users\\lakshya\\anaconda3\\lib\\site-packages\\seaborn\\_decorators.py:36: FutureWarning: Pass the following variable as a keyword arg: x. From version 0.12, the only valid positional argument will be `data`, and passing other arguments without an explicit keyword will result in an error or misinterpretation.\n",
      "  warnings.warn(\n"
     ]
    },
    {
     "data": {
      "image/png": "[encoded data removed]",
      "text/plain": [
       "<Figure size 432x216 with 1 Axes>"
      ]
     },
     "metadata": {
      "needs_background": "light"
     },
     "output_type": "display_data"
    },
    {
     "name": "stderr",
     "output_type": "stream",
     "text": [
      "C:\\Users\\lakshya\\anaconda3\\lib\\site-packages\\seaborn\\_decorators.py:36: FutureWarning: Pass the following variable as a keyword arg: x. From version 0.12, the only valid positional argument will be `data`, and passing other arguments without an explicit keyword will result in an error or misinterpretation.\n",
      "  warnings.warn(\n"
     ]
    },
    {
     "data": {
      "image/png": "[encoded data removed]",
      "text/plain": [
       "<Figure size 432x216 with 1 Axes>"
      ]
     },
     "metadata": {
      "needs_background": "light"
     },
     "output_type": "display_data"
    },
    {
     "name": "stderr",
     "output_type": "stream",
     "text": [
      "C:\\Users\\lakshya\\anaconda3\\lib\\site-packages\\seaborn\\_decorators.py:36: FutureWarning: Pass the following variable as a keyword arg: x. From version 0.12, the only valid positional argument will be `data`, and passing other arguments without an explicit keyword will result in an error or misinterpretation.\n",
      "  warnings.warn(\n"
     ]
    },
    {
     "data": {
      "image/png": "[encoded data removed]",
      "text/plain": [
       "<Figure size 432x216 with 1 Axes>"
      ]
     },
     "metadata": {
      "needs_background": "light"
     },
     "output_type": "display_data"
    },
    {
     "name": "stderr",
     "output_type": "stream",
     "text": [
      "C:\\Users\\lakshya\\anaconda3\\lib\\site-packages\\seaborn\\_decorators.py:36: FutureWarning: Pass the following variable as a keyword arg: x. From version 0.12, the only valid positional argument will be `data`, and passing other arguments without an explicit keyword will result in an error or misinterpretation.\n",
      "  warnings.warn(\n"
     ]
    },
    {
     "data": {
      "image/png": "[encoded data removed]",
      "text/plain": [
       "<Figure size 432x216 with 1 Axes>"
      ]
     },
     "metadata": {
      "needs_background": "light"
     },
     "output_type": "display_data"
    }
   ],
   "source": [
    "# Checking for any outliers in the numeric data\n",
    "\n",
    "for i in df.columns:\n",
    "    if df[i].dtype=='float64':\n",
    "        plt.figure(figsize=(6,3))\n",
    "        sns.boxplot(df[i])\n",
    "        plt.show()"
   ]
  },
  {
   "cell_type": "code",
   "execution_count": 8,
   "id": "f60b0cd8",
   "metadata": {},
   "outputs": [],
   "source": [
    "Q1,Q3=np.percentile(df['SepalWidthCm'],[25,75])\n",
    "iqr=Q3-Q1\n",
    "lower_bound=Q1-(1.5*iqr)\n",
    "upper_bound=Q3+(1.5*iqr)\n",
    "df['SepalWidthCm']= df['SepalWidthCm'].apply(lambda x:upper_bound if x>upper_bound\n",
    "                                              else lower_bound if x<lower_bound else x)\n"
   ]
  },
  {
   "cell_type": "code",
   "execution_count": 9,
   "id": "f1258580",
   "metadata": {},
   "outputs": [
    {
     "name": "stderr",
     "output_type": "stream",
     "text": [
      "C:\\Users\\lakshya\\anaconda3\\lib\\site-packages\\seaborn\\_decorators.py:36: FutureWarning: Pass the following variable as a keyword arg: x. From version 0.12, the only valid positional argument will be `data`, and passing other arguments without an explicit keyword will result in an error or misinterpretation.\n",
      "  warnings.warn(\n"
     ]
    },
    {
     "data": {
      "text/plain": [
       "<AxesSubplot:xlabel='SepalWidthCm'>"
      ]
     },
     "execution_count": 9,
     "metadata": {},
     "output_type": "execute_result"
    },
    {
     "data": {
      "image/png": "[encoded data removed]",
      "text/plain": [
       "<Figure size 432x288 with 1 Axes>"
      ]
     },
     "metadata": {
      "needs_background": "light"
     },
     "output_type": "display_data"
    }
   ],
   "source": [
    "sns.boxplot(df['SepalWidthCm'])"
   ]
  },
  {
   "cell_type": "code",
   "execution_count": 10,
   "id": "1a152008",
   "metadata": {},
   "outputs": [
    {
     "data": {
      "text/plain": [
       "array([[5.1 , 3.5 , 1.4 , 0.2 ],\n",
       "       [4.9 , 3.  , 1.4 , 0.2 ],\n",
       "       [4.7 , 3.2 , 1.3 , 0.2 ],\n",
       "       [4.6 , 3.1 , 1.5 , 0.2 ],\n",
       "       [5.  , 3.6 , 1.4 , 0.2 ],\n",
       "       [5.4 , 3.9 , 1.7 , 0.4 ],\n",
       "       [4.6 , 3.4 , 1.4 , 0.3 ],\n",
       "       [5.  , 3.4 , 1.5 , 0.2 ],\n",
       "       [4.4 , 2.9 , 1.4 , 0.2 ],\n",
       "       [4.9 , 3.1 , 1.5 , 0.1 ],\n",
       "       [5.4 , 3.7 , 1.5 , 0.2 ],\n",
       "       [4.8 , 3.4 , 1.6 , 0.2 ],\n",
       "       [4.8 , 3.  , 1.4 , 0.1 ],\n",
       "       [4.3 , 3.  , 1.1 , 0.1 ],\n",
       "       [5.8 , 4.  , 1.2 , 0.2 ],\n",
       "       [5.7 , 4.05, 1.5 , 0.4 ],\n",
       "       [5.4 , 3.9 , 1.3 , 0.4 ],\n",
       "       [5.1 , 3.5 , 1.4 , 0.3 ],\n",
       "       [5.7 , 3.8 , 1.7 , 0.3 ],\n",
       "       [5.1 , 3.8 , 1.5 , 0.3 ],\n",
       "       [5.4 , 3.4 , 1.7 , 0.2 ],\n",
       "       [5.1 , 3.7 , 1.5 , 0.4 ],\n",
       "       [4.6 , 3.6 , 1.  , 0.2 ],\n",
       "       [5.1 , 3.3 , 1.7 , 0.5 ],\n",
       "       [4.8 , 3.4 , 1.9 , 0.2 ],\n",
       "       [5.  , 3.  , 1.6 , 0.2 ],\n",
       "       [5.  , 3.4 , 1.6 , 0.4 ],\n",
       "       [5.2 , 3.5 , 1.5 , 0.2 ],\n",
       "       [5.2 , 3.4 , 1.4 , 0.2 ],\n",
       "       [4.7 , 3.2 , 1.6 , 0.2 ],\n",
       "       [4.8 , 3.1 , 1.6 , 0.2 ],\n",
       "       [5.4 , 3.4 , 1.5 , 0.4 ],\n",
       "       [5.2 , 4.05, 1.5 , 0.1 ],\n",
       "       [5.5 , 4.05, 1.4 , 0.2 ],\n",
       "       [4.9 , 3.1 , 1.5 , 0.1 ],\n",
       "       [5.  , 3.2 , 1.2 , 0.2 ],\n",
       "       [5.5 , 3.5 , 1.3 , 0.2 ],\n",
       "       [4.9 , 3.1 , 1.5 , 0.1 ],\n",
       "       [4.4 , 3.  , 1.3 , 0.2 ],\n",
       "       [5.1 , 3.4 , 1.5 , 0.2 ],\n",
       "       [5.  , 3.5 , 1.3 , 0.3 ],\n",
       "       [4.5 , 2.3 , 1.3 , 0.3 ],\n",
       "       [4.4 , 3.2 , 1.3 , 0.2 ],\n",
       "       [5.  , 3.5 , 1.6 , 0.6 ],\n",
       "       [5.1 , 3.8 , 1.9 , 0.4 ],\n",
       "       [4.8 , 3.  , 1.4 , 0.3 ],\n",
       "       [5.1 , 3.8 , 1.6 , 0.2 ],\n",
       "       [4.6 , 3.2 , 1.4 , 0.2 ],\n",
       "       [5.3 , 3.7 , 1.5 , 0.2 ],\n",
       "       [5.  , 3.3 , 1.4 , 0.2 ],\n",
       "       [7.  , 3.2 , 4.7 , 1.4 ],\n",
       "       [6.4 , 3.2 , 4.5 , 1.5 ],\n",
       "       [6.9 , 3.1 , 4.9 , 1.5 ],\n",
       "       [5.5 , 2.3 , 4.  , 1.3 ],\n",
       "       [6.5 , 2.8 , 4.6 , 1.5 ],\n",
       "       [5.7 , 2.8 , 4.5 , 1.3 ],\n",
       "       [6.3 , 3.3 , 4.7 , 1.6 ],\n",
       "       [4.9 , 2.4 , 3.3 , 1.  ],\n",
       "       [6.6 , 2.9 , 4.6 , 1.3 ],\n",
       "       [5.2 , 2.7 , 3.9 , 1.4 ],\n",
       "       [5.  , 2.05, 3.5 , 1.  ],\n",
       "       [5.9 , 3.  , 4.2 , 1.5 ],\n",
       "       [6.  , 2.2 , 4.  , 1.  ],\n",
       "       [6.1 , 2.9 , 4.7 , 1.4 ],\n",
       "       [5.6 , 2.9 , 3.6 , 1.3 ],\n",
       "       [6.7 , 3.1 , 4.4 , 1.4 ],\n",
       "       [5.6 , 3.  , 4.5 , 1.5 ],\n",
       "       [5.8 , 2.7 , 4.1 , 1.  ],\n",
       "       [6.2 , 2.2 , 4.5 , 1.5 ],\n",
       "       [5.6 , 2.5 , 3.9 , 1.1 ],\n",
       "       [5.9 , 3.2 , 4.8 , 1.8 ],\n",
       "       [6.1 , 2.8 , 4.  , 1.3 ],\n",
       "       [6.3 , 2.5 , 4.9 , 1.5 ],\n",
       "       [6.1 , 2.8 , 4.7 , 1.2 ],\n",
       "       [6.4 , 2.9 , 4.3 , 1.3 ],\n",
       "       [6.6 , 3.  , 4.4 , 1.4 ],\n",
       "       [6.8 , 2.8 , 4.8 , 1.4 ],\n",
       "       [6.7 , 3.  , 5.  , 1.7 ],\n",
       "       [6.  , 2.9 , 4.5 , 1.5 ],\n",
       "       [5.7 , 2.6 , 3.5 , 1.  ],\n",
       "       [5.5 , 2.4 , 3.8 , 1.1 ],\n",
       "       [5.5 , 2.4 , 3.7 , 1.  ],\n",
       "       [5.8 , 2.7 , 3.9 , 1.2 ],\n",
       "       [6.  , 2.7 , 5.1 , 1.6 ],\n",
       "       [5.4 , 3.  , 4.5 , 1.5 ],\n",
       "       [6.  , 3.4 , 4.5 , 1.6 ],\n",
       "       [6.7 , 3.1 , 4.7 , 1.5 ],\n",
       "       [6.3 , 2.3 , 4.4 , 1.3 ],\n",
       "       [5.6 , 3.  , 4.1 , 1.3 ],\n",
       "       [5.5 , 2.5 , 4.  , 1.3 ],\n",
       "       [5.5 , 2.6 , 4.4 , 1.2 ],\n",
       "       [6.1 , 3.  , 4.6 , 1.4 ],\n",
       "       [5.8 , 2.6 , 4.  , 1.2 ],\n",
       "       [5.  , 2.3 , 3.3 , 1.  ],\n",
       "       [5.6 , 2.7 , 4.2 , 1.3 ],\n",
       "       [5.7 , 3.  , 4.2 , 1.2 ],\n",
       "       [5.7 , 2.9 , 4.2 , 1.3 ],\n",
       "       [6.2 , 2.9 , 4.3 , 1.3 ],\n",
       "       [5.1 , 2.5 , 3.  , 1.1 ],\n",
       "       [5.7 , 2.8 , 4.1 , 1.3 ],\n",
       "       [6.3 , 3.3 , 6.  , 2.5 ],\n",
       "       [5.8 , 2.7 , 5.1 , 1.9 ],\n",
       "       [7.1 , 3.  , 5.9 , 2.1 ],\n",
       "       [6.3 , 2.9 , 5.6 , 1.8 ],\n",
       "       [6.5 , 3.  , 5.8 , 2.2 ],\n",
       "       [7.6 , 3.  , 6.6 , 2.1 ],\n",
       "       [4.9 , 2.5 , 4.5 , 1.7 ],\n",
       "       [7.3 , 2.9 , 6.3 , 1.8 ],\n",
       "       [6.7 , 2.5 , 5.8 , 1.8 ],\n",
       "       [7.2 , 3.6 , 6.1 , 2.5 ],\n",
       "       [6.5 , 3.2 , 5.1 , 2.  ],\n",
       "       [6.4 , 2.7 , 5.3 , 1.9 ],\n",
       "       [6.8 , 3.  , 5.5 , 2.1 ],\n",
       "       [5.7 , 2.5 , 5.  , 2.  ],\n",
       "       [5.8 , 2.8 , 5.1 , 2.4 ],\n",
       "       [6.4 , 3.2 , 5.3 , 2.3 ],\n",
       "       [6.5 , 3.  , 5.5 , 1.8 ],\n",
       "       [7.7 , 3.8 , 6.7 , 2.2 ],\n",
       "       [7.7 , 2.6 , 6.9 , 2.3 ],\n",
       "       [6.  , 2.2 , 5.  , 1.5 ],\n",
       "       [6.9 , 3.2 , 5.7 , 2.3 ],\n",
       "       [5.6 , 2.8 , 4.9 , 2.  ],\n",
       "       [7.7 , 2.8 , 6.7 , 2.  ],\n",
       "       [6.3 , 2.7 , 4.9 , 1.8 ],\n",
       "       [6.7 , 3.3 , 5.7 , 2.1 ],\n",
       "       [7.2 , 3.2 , 6.  , 1.8 ],\n",
       "       [6.2 , 2.8 , 4.8 , 1.8 ],\n",
       "       [6.1 , 3.  , 4.9 , 1.8 ],\n",
       "       [6.4 , 2.8 , 5.6 , 2.1 ],\n",
       "       [7.2 , 3.  , 5.8 , 1.6 ],\n",
       "       [7.4 , 2.8 , 6.1 , 1.9 ],\n",
       "       [7.9 , 3.8 , 6.4 , 2.  ],\n",
       "       [6.4 , 2.8 , 5.6 , 2.2 ],\n",
       "       [6.3 , 2.8 , 5.1 , 1.5 ],\n",
       "       [6.1 , 2.6 , 5.6 , 1.4 ],\n",
       "       [7.7 , 3.  , 6.1 , 2.3 ],\n",
       "       [6.3 , 3.4 , 5.6 , 2.4 ],\n",
       "       [6.4 , 3.1 , 5.5 , 1.8 ],\n",
       "       [6.  , 3.  , 4.8 , 1.8 ],\n",
       "       [6.9 , 3.1 , 5.4 , 2.1 ],\n",
       "       [6.7 , 3.1 , 5.6 , 2.4 ],\n",
       "       [6.9 , 3.1 , 5.1 , 2.3 ],\n",
       "       [5.8 , 2.7 , 5.1 , 1.9 ],\n",
       "       [6.8 , 3.2 , 5.9 , 2.3 ],\n",
       "       [6.7 , 3.3 , 5.7 , 2.5 ],\n",
       "       [6.7 , 3.  , 5.2 , 2.3 ],\n",
       "       [6.3 , 2.5 , 5.  , 1.9 ],\n",
       "       [6.5 , 3.  , 5.2 , 2.  ],\n",
       "       [6.2 , 3.4 , 5.4 , 2.3 ],\n",
       "       [5.9 , 3.  , 5.1 , 1.8 ]])"
      ]
     },
     "execution_count": 10,
     "metadata": {},
     "output_type": "execute_result"
    }
   ],
   "source": [
    "x=df.iloc[:,:-1].values\n",
    "x"
   ]
  },
  {
   "cell_type": "code",
   "execution_count": 11,
   "id": "cd3bad4f",
   "metadata": {},
   "outputs": [
    {
     "name": "stderr",
     "output_type": "stream",
     "text": [
      "C:\\Users\\lakshya\\anaconda3\\lib\\site-packages\\sklearn\\cluster\\_kmeans.py:1036: UserWarning: KMeans is known to have a memory leak on Windows with MKL, when there are less chunks than available threads. You can avoid it by setting the environment variable OMP_NUM_THREADS=1.\n",
      "  warnings.warn(\n",
      "C:\\Users\\lakshya\\AppData\\Local\\Temp/ipykernel_16192/3818358222.py:8: UserWarning: color is redundantly defined by the 'color' keyword argument and the fmt string \"go--\" (-> color='g'). The keyword argument will take precedence.\n",
      "  plt.plot(range(1,15),wcss_list,\"go--\", color= \"green\")\n"
     ]
    },
    {
     "data": {
      "image/png": "[encoded data removed]",
      "text/plain": [
       "<Figure size 432x288 with 1 Axes>"
      ]
     },
     "metadata": {
      "needs_background": "light"
     },
     "output_type": "display_data"
    }
   ],
   "source": [
    "from sklearn.cluster import KMeans\n",
    "wcss_list= []                          #Initializing the list for the values of WCSS\n",
    "\n",
    "for i in range(1,15):                 \n",
    "    kmeans = KMeans(n_clusters=i)\n",
    "    kmeans.fit(x)\n",
    "    wcss_list.append(kmeans.inertia_)\n",
    "plt.plot(range(1,15),wcss_list,\"go--\", color= \"green\")\n",
    "plt.title(\" The Elbow Method \")\n",
    "plt.xlabel(\"Number of Clusters\")\n",
    "plt.ylabel(\"Within-cluster sum of square\")\n",
    "plt.grid()\n",
    "plt.show()"
   ]
  },
  {
   "cell_type": "code",
   "execution_count": 12,
   "id": "2d349c50",
   "metadata": {},
   "outputs": [],
   "source": [
    "kmeans=KMeans(n_clusters=3 )\n",
    "y_predict = kmeans.fit_predict(x)"
   ]
  },
  {
   "cell_type": "code",
   "execution_count": 17,
   "id": "38027d62",
   "metadata": {},
   "outputs": [
    {
     "data": {
      "image/png": "[encoded data removed]",
      "text/plain": [
       "<Figure size 432x288 with 1 Axes>"
      ]
     },
     "metadata": {
      "needs_background": "light"
     },
     "output_type": "display_data"
    }
   ],
   "source": [
    "\n",
    "plt.scatter(x[y_predict == 0, 0], x[y_predict == 0, 1], s = 25, c = 'yellow', label = 'Iris-setosa')\n",
    "plt.scatter(x[y_predict == 1, 0], x[y_predict == 1, 1], s = 25, c = 'blue', label = 'Iris-versicolour')\n",
    "plt.scatter(x[y_predict == 2, 0], x[y_predict == 2, 1], s = 25, c = 'green', label = 'Iris-virginica')\n",
    "\n",
    "# Plotting the cluster centers\n",
    "\n",
    "plt.scatter(kmeans.cluster_centers_[:, 0], kmeans.cluster_centers_[:,1], s = 100, c = 'red', label = 'Centroids')\n",
    "plt.legend()\n",
    "plt.grid()\n",
    "plt.show()"
   ]
  }
 ],
 "metadata": {
  "kernelspec": {
   "display_name": "Python 3 (ipykernel)",
   "language": "python",
   "name": "python3"
  },
  "language_info": {
   "codemirror_mode": {
    "name": "ipython",
    "version": 3
   },
   "file_extension": ".py",
   "mimetype": "text/x-python",
   "name": "python",
   "nbconvert_exporter": "python",
   "pygments_lexer": "ipython3",
   "version": "3.9.7"
  }
 },
 "nbformat": 4,
 "nbformat_minor": 5
}
